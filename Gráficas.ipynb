{
 "cells": [
  {
   "cell_type": "code",
   "execution_count": 1,
   "id": "2b2f982e",
   "metadata": {},
   "outputs": [],
   "source": [
    "import pymongo\n",
    "from pymongo import MongoClient"
   ]
  },
  {
   "cell_type": "code",
   "execution_count": 2,
   "id": "2b7189e1",
   "metadata": {},
   "outputs": [],
   "source": [
    "import os\n",
    "from dotenv import load_dotenv\n",
    "import pandas as pd"
   ]
  },
  {
   "cell_type": "code",
   "execution_count": 3,
   "id": "feff475d",
   "metadata": {},
   "outputs": [],
   "source": [
    "# Cargar variables\n",
    "load_dotenv(\".env\")\n",
    "MONGODB_URI = os.getenv(\"MONGODB_URI\")\n",
    "\n",
    "# URI\n",
    "MONGODB_URI"
   ]
  },
  {
   "cell_type": "code",
   "execution_count": 4,
   "id": "5e86b268",
   "metadata": {},
   "outputs": [],
   "source": [
    "client = MongoClient(MONGODB_URI)"
   ]
  },
  {
   "cell_type": "code",
   "execution_count": 5,
   "id": "263f76b4",
   "metadata": {},
   "outputs": [],
   "source": [
    "db = client.ciam"
   ]
  },
  {
   "cell_type": "code",
   "execution_count": 13,
   "id": "e1fd811c",
   "metadata": {},
   "outputs": [
    {
     "data": {
      "text/plain": [
       "[]"
      ]
     },
     "execution_count": 13,
     "metadata": {},
     "output_type": "execute_result"
    }
   ],
   "source": [
    "list(db.encuesta.find({}, {\"_id\" : 0}))"
   ]
  },
  {
   "cell_type": "code",
   "execution_count": 11,
   "id": "fb84201c",
   "metadata": {},
   "outputs": [],
   "source": [
    "df = list(db.encuesta.find({}, {\"_id\" : 0}))"
   ]
  },
  {
   "cell_type": "code",
   "execution_count": 12,
   "id": "69fac5bb",
   "metadata": {},
   "outputs": [
    {
     "ename": "IndexError",
     "evalue": "list index out of range",
     "output_type": "error",
     "traceback": [
      "\u001b[1;31m---------------------------------------------------------------------------\u001b[0m",
      "\u001b[1;31mIndexError\u001b[0m                                Traceback (most recent call last)",
      "\u001b[1;32mc:\\Users\\kenne\\OneDrive\\Escritorio\\ciam-dashboard\\Gráficas.ipynb Celda 8\u001b[0m in \u001b[0;36m<cell line: 1>\u001b[1;34m()\u001b[0m\n\u001b[1;32m----> <a href='vscode-notebook-cell:/c%3A/Users/kenne/OneDrive/Escritorio/ciam-dashboard/Gr%C3%A1ficas.ipynb#X10sZmlsZQ%3D%3D?line=0'>1</a>\u001b[0m df[\u001b[39m-\u001b[39;49m\u001b[39m1\u001b[39;49m]\n",
      "\u001b[1;31mIndexError\u001b[0m: list index out of range"
     ]
    }
   ],
   "source": [
    "df[-1]"
   ]
  },
  {
   "cell_type": "code",
   "execution_count": null,
   "id": "ff5634aa",
   "metadata": {},
   "outputs": [],
   "source": []
  }
 ],
 "metadata": {
  "kernelspec": {
   "display_name": "Python 3 (ipykernel)",
   "language": "python",
   "name": "python3"
  },
  "language_info": {
   "codemirror_mode": {
    "name": "ipython",
    "version": 3
   },
   "file_extension": ".py",
   "mimetype": "text/x-python",
   "name": "python",
   "nbconvert_exporter": "python",
   "pygments_lexer": "ipython3",
   "version": "3.10.5"
  }
 },
 "nbformat": 4,
 "nbformat_minor": 5
}
